{
 "cells": [
  {
   "cell_type": "code",
   "execution_count": 8,
   "metadata": {
    "collapsed": false
   },
   "outputs": [],
   "source": [
    "G[1]=[2,3]\n",
    "G[2]=[4]\n",
    "G[3]=[4,5]\n",
    "G[4]=[]\n",
    "G[5]=[]"
   ]
  },
  {
   "cell_type": "code",
   "execution_count": 9,
   "metadata": {
    "collapsed": false
   },
   "outputs": [
    {
     "data": {
      "text/plain": [
       "[2, 3]"
      ]
     },
     "execution_count": 9,
     "metadata": {},
     "output_type": "execute_result"
    }
   ],
   "source": [
    "G[1]\n",
    "\n",
    "\n",
    "\n",
    "\n"
   ]
  },
  {
   "cell_type": "code",
   "execution_count": 12,
   "metadata": {
    "collapsed": false
   },
   "outputs": [
    {
     "name": "stdout",
     "output_type": "stream",
     "text": [
      "1\n"
     ]
    }
   ],
   "source": [
    "for i in G:\n",
    "    if (2in G[i]):\n",
    "        print (i)"
   ]
  },
  {
   "cell_type": "code",
   "execution_count": 13,
   "metadata": {
    "collapsed": false
   },
   "outputs": [
    {
     "name": "stdout",
     "output_type": "stream",
     "text": [
      "1\n"
     ]
    }
   ],
   "source": [
    "Graph={}\n",
    "Graph[1]=[2,3]\n",
    "Graph[2]=[4]\n",
    "Graph[3]=[4,5]\n",
    "Graph[4]=[]\n",
    "Graph[5]=[]\n",
    "for x in Graph:\n",
    "    if(2 in Graph[x]):\n",
    "        print(x)\n",
    "\n"
   ]
  },
  {
   "cell_type": "code",
   "execution_count": 14,
   "metadata": {
    "collapsed": false
   },
   "outputs": [
    {
     "name": "stdout",
     "output_type": "stream",
     "text": [
      "THE LIST OF GRAPH IS \n",
      "{1: [2, 3], 2: [4], 3: [4, 5], 4: [], 5: []}\n",
      "ENTER THE NODE: 5\n",
      "THE INDEGREE IS: \n",
      "1\n",
      "THE OUTDEGREE IS \n",
      "0\n"
     ]
    }
   ],
   "source": [
    "graph = {}\n",
    "print(\"THE LIST OF GRAPH IS \")\n",
    "graph [1] = [2,3]\n",
    "graph  [2] = [4]\n",
    "graph  [3] = [4,5]\n",
    "graph  [4] = [ ]\n",
    "graph  [5] = [ ]\n",
    "print(graph);\n",
    "\n",
    "n = int(input(\"ENTER THE NODE: \"));\n",
    "\n",
    "ind=0\n",
    "for k in graph.keys():\n",
    "    if n in graph[k]:\n",
    "        ind+=1\n",
    "print(\"THE INDEGREE IS: \");\n",
    "print(ind);\n",
    "\n",
    "print(\"THE OUTDEGREE IS \");\n",
    "print(len(graph[n]));"
   ]
  },
  {
   "cell_type": "code",
   "execution_count": 15,
   "metadata": {
    "collapsed": false
   },
   "outputs": [
    {
     "name": "stdout",
     "output_type": "stream",
     "text": [
      "[1, 3, 5, 4, 2]\n"
     ]
    }
   ],
   "source": [
    "stack=[1]\n",
    "def push(e):\n",
    "    stack.insert(0,e)\n",
    "\n",
    "def pop():\n",
    "    return stack.pop(0)\n",
    "\n",
    "visited=[]\n",
    "\n",
    "while len(stack)!=0:\n",
    "    e=pop()\n",
    "    if e in visited: \n",
    "        pass\n",
    "    else:\n",
    "        visited.append(e)\n",
    "    for k in G[e]:\n",
    "        push(k)\n",
    "print(visited)"
   ]
  },
  {
   "cell_type": "code",
   "execution_count": 16,
   "metadata": {
    "collapsed": false
   },
   "outputs": [
    {
     "name": "stdout",
     "output_type": "stream",
     "text": [
      "[1, 2, 3, 4, 5]\n"
     ]
    }
   ],
   "source": [
    "queue=[1]\n",
    "def enqueue(e):\n",
    "    queue.append(e)\n",
    "\n",
    "def dequeue():\n",
    "    return queue.pop(0)\n",
    "\n",
    "visited=[]\n",
    "\n",
    "while len(queue)!=0:    \n",
    "    e=dequeue()\n",
    "    if e in visited: \n",
    "        pass\n",
    "    else:\n",
    "        visited.append(e)\n",
    "    for k in G[e]:\n",
    "        enqueue(k)\n",
    "print(visited)"
   ]
  },
  {
   "cell_type": "code",
   "execution_count": 17,
   "metadata": {
    "collapsed": false
   },
   "outputs": [
    {
     "name": "stdout",
     "output_type": "stream",
     "text": [
      "2\n",
      "3\n",
      "total nodes are 2\n",
      "In degree of  2 2\n",
      "out degree of 2 is 1\n"
     ]
    }
   ],
   "source": [
    "Graph={}\n",
    "Graph[1]=[2,3]\n",
    "Graph[2]=[4]\n",
    "Graph[3]=[4,5]\n",
    "Graph[4]=[]\n",
    "Graph[5]=[]\n",
    "COUNT=0\n",
    "for x in Graph:   \n",
    "    if(4 in Graph[x]):\n",
    "        COUNT+=1\n",
    "        print(x)\n",
    "print(\"total nodes are\",COUNT)\n",
    "print(\"In degree of \",2,COUNT)\n",
    "print(\"out degree of 2 is\", len(Graph[2]))\n",
    "    \n",
    "    \n",
    "    "
   ]
  },
  {
   "cell_type": "code",
   "execution_count": null,
   "metadata": {
    "collapsed": true
   },
   "outputs": [],
   "source": []
  }
 ],
 "metadata": {
  "anaconda-cloud": {},
  "kernelspec": {
   "display_name": "Python [Root]",
   "language": "python",
   "name": "Python [Root]"
  },
  "language_info": {
   "codemirror_mode": {
    "name": "ipython",
    "version": 3
   },
   "file_extension": ".py",
   "mimetype": "text/x-python",
   "name": "python",
   "nbconvert_exporter": "python",
   "pygments_lexer": "ipython3",
   "version": "3.5.2"
  }
 },
 "nbformat": 4,
 "nbformat_minor": 0
}
