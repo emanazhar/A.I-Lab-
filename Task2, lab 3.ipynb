{
 "cells": [
  {
   "cell_type": "code",
   "execution_count": 2,
   "metadata": {},
   "outputs": [
    {
     "name": "stdout",
     "output_type": "stream",
     "text": [
      "Input the month (e.g. January, February etc.): 4\n",
      "Input the day: 4\n"
     ]
    }
   ],
   "source": [
    "month = input(\"Input the month (e.g. January, February etc.): \")\n",
    "day = int(input(\"Input the day: \"))\n",
    "\n",
    "if month in ('January', 'February', 'March'):\n",
    "    season = 'winter'\n",
    "elif month in ('April', 'May', 'June'):\n",
    "    season = 'spring'\n",
    "elif month in ('July', 'August', 'September'):\n",
    "    season = 'summer'\n",
    "else:\n",
    "    season = 'autumn'\n",
    "\n",
    "if (month == 'March') and (day > 19):\n",
    "    season = 'spring'\n",
    "elif (month == 'June') and (day > 20):\n",
    "    season = 'summer'\n",
    "elif (month == 'September') and (day > 21):\n",
    "    season = 'autumn'\n",
    "elif (month == 'December') and (day > 20):\n",
    "    season = 'winter'"
   ]
  },
  {
   "cell_type": "code",
   "execution_count": null,
   "metadata": {},
   "outputs": [],
   "source": []
  }
 ],
 "metadata": {
  "kernelspec": {
   "display_name": "Python 2",
   "language": "python",
   "name": "python2"
  },
  "language_info": {
   "codemirror_mode": {
    "name": "ipython",
    "version": 2
   },
   "file_extension": ".py",
   "mimetype": "text/x-python",
   "name": "python",
   "nbconvert_exporter": "python",
   "pygments_lexer": "ipython2",
   "version": "2.7.15"
  }
 },
 "nbformat": 4,
 "nbformat_minor": 2
}
